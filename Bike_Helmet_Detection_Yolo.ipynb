{
  "nbformat": 4,
  "nbformat_minor": 0,
  "metadata": {
    "colab": {
      "name": "Bike Helmet Detection Yolo.ipynb",
      "provenance": [],
      "collapsed_sections": []
    },
    "kernelspec": {
      "name": "python3",
      "display_name": "Python 3"
    },
    "language_info": {
      "name": "python"
    }
  },
  "cells": [
    {
      "cell_type": "code",
      "execution_count": null,
      "metadata": {
        "id": "JhMZoCxSuVuc"
      },
      "outputs": [],
      "source": [
        "from google.colab import drive"
      ]
    },
    {
      "cell_type": "code",
      "source": [
        "drive.mount('/content/gdrive')"
      ],
      "metadata": {
        "colab": {
          "base_uri": "https://localhost:8080/"
        },
        "id": "E_gWyPbMvGN0",
        "outputId": "40205f96-9b24-490d-bbae-55f83525c3de"
      },
      "execution_count": null,
      "outputs": [
        {
          "output_type": "stream",
          "name": "stdout",
          "text": [
            "Mounted at /content/gdrive\n"
          ]
        }
      ]
    },
    {
      "cell_type": "code",
      "source": [
        "import os"
      ],
      "metadata": {
        "id": "Op5Hji3_vM2I"
      },
      "execution_count": null,
      "outputs": []
    },
    {
      "cell_type": "code",
      "source": [
        "os.chdir(\"./gdrive/\")\n",
        "os.chdir(\"./MyDrive/\")\n",
        "os.chdir(\"./Artenal Task\")"
      ],
      "metadata": {
        "id": "IFq9f6zzvWot"
      },
      "execution_count": null,
      "outputs": []
    },
    {
      "cell_type": "code",
      "source": [
        "# !git clone https://github.com/ultralytics/yolov5  # clone repo\n",
        "%cd yolov5\n",
        "%pip install -qr requirements.txt # install dependencies\n",
        "%pip install -q roboflow\n",
        "\n",
        "import torch\n",
        "import os\n",
        "from IPython.display import Image, clear_output  # to display images\n",
        "\n",
        "print(f\"Setup complete. Using torch {torch.__version__} ({torch.cuda.get_device_properties(0).name if torch.cuda.is_available() else 'CPU'})\")"
      ],
      "metadata": {
        "colab": {
          "base_uri": "https://localhost:8080/"
        },
        "id": "Q1FUguO_vaYN",
        "outputId": "4ccbaaf6-bb58-45cf-fb1d-4996069e9098"
      },
      "execution_count": null,
      "outputs": [
        {
          "output_type": "stream",
          "name": "stdout",
          "text": [
            "/content/gdrive/MyDrive/Artenal Task/yolov5\n",
            "\u001b[K     |████████████████████████████████| 596 kB 12.8 MB/s \n",
            "\u001b[K     |████████████████████████████████| 1.1 MB 16.7 MB/s \n",
            "\u001b[K     |████████████████████████████████| 178 kB 67.0 MB/s \n",
            "\u001b[K     |████████████████████████████████| 67 kB 5.2 MB/s \n",
            "\u001b[K     |████████████████████████████████| 145 kB 70.3 MB/s \n",
            "\u001b[K     |████████████████████████████████| 138 kB 66.1 MB/s \n",
            "\u001b[K     |████████████████████████████████| 63 kB 1.3 MB/s \n",
            "\u001b[?25h  Building wheel for wget (setup.py) ... \u001b[?25l\u001b[?25hdone\n",
            "\u001b[31mERROR: pip's dependency resolver does not currently take into account all the packages that are installed. This behaviour is the source of the following dependency conflicts.\n",
            "google-colab 1.0.0 requires requests~=2.23.0, but you have requests 2.27.1 which is incompatible.\n",
            "datascience 0.10.6 requires folium==0.2.1, but you have folium 0.8.3 which is incompatible.\n",
            "albumentations 0.1.12 requires imgaug<0.2.7,>=0.2.5, but you have imgaug 0.2.9 which is incompatible.\u001b[0m\n",
            "Setup complete. Using torch 1.10.0+cu111 (CPU)\n"
          ]
        }
      ]
    },
    {
      "cell_type": "code",
      "source": [
        "# from roboflow import Roboflow\n",
        "# rf = Roboflow(api_key=\"dljpEMcvprswesp5hAFO\")\n",
        "# project = rf.workspace().project(\"bike-helmet-ln4r9\")\n",
        "# dataset = project.version(1).download(\"yolov5\")"
      ],
      "metadata": {
        "id": "jpJkZouFvi46"
      },
      "execution_count": null,
      "outputs": []
    },
    {
      "cell_type": "code",
      "source": [
        "os.chdir(\"../\")"
      ],
      "metadata": {
        "id": "E73e6-IEsd7_"
      },
      "execution_count": null,
      "outputs": []
    },
    {
      "cell_type": "code",
      "source": [
        "!python train.py --img 416 --batch 32 --epochs 20 --data data.yaml --weights yolov5s.pt --name yolov5s-helmet"
      ],
      "metadata": {
        "colab": {
          "base_uri": "https://localhost:8080/"
        },
        "id": "bSms1sOox9_Y",
        "outputId": "485214e2-ca97-4a56-9d42-4a362d89a675"
      },
      "execution_count": null,
      "outputs": [
        {
          "output_type": "stream",
          "name": "stdout",
          "text": [
            "Downloading https://ultralytics.com/assets/Arial.ttf to /root/.config/Ultralytics/Arial.ttf...\n",
            "\u001b[34m\u001b[1mtrain: \u001b[0mweights=yolov5s.pt, cfg=, data=data.yaml, hyp=data/hyps/hyp.scratch.yaml, epochs=20, batch_size=32, imgsz=416, rect=False, resume=False, nosave=False, noval=False, noautoanchor=False, evolve=None, bucket=, cache=None, image_weights=False, device=, multi_scale=False, single_cls=False, optimizer=SGD, sync_bn=False, workers=8, project=runs/train, name=yolov5s-helmet, exist_ok=False, quad=False, linear_lr=False, label_smoothing=0.0, patience=100, freeze=[0], save_period=-1, local_rank=-1, entity=None, upload_dataset=False, bbox_interval=-1, artifact_alias=latest\n",
            "remote: Enumerating objects: 88, done.\u001b[K\n",
            "remote: Counting objects: 100% (59/59), done.\u001b[K\n",
            "remote: Compressing objects: 100% (6/6), done.\u001b[K\n",
            "remote: Total 88 (delta 53), reused 54 (delta 53), pack-reused 29\u001b[K\n",
            "Command 'git fetch && git config --get remote.origin.url' timed out after 5 seconds\n",
            "YOLOv5 🚀 2022-1-27 torch 1.10.0+cu111 CUDA:0 (Tesla K80, 11441MiB)\n",
            "\n",
            "\u001b[34m\u001b[1mhyperparameters: \u001b[0mlr0=0.01, lrf=0.1, momentum=0.937, weight_decay=0.0005, warmup_epochs=3.0, warmup_momentum=0.8, warmup_bias_lr=0.1, box=0.05, cls=0.5, cls_pw=1.0, obj=1.0, obj_pw=1.0, iou_t=0.2, anchor_t=4.0, fl_gamma=0.0, hsv_h=0.015, hsv_s=0.7, hsv_v=0.4, degrees=0.0, translate=0.1, scale=0.5, shear=0.0, perspective=0.0, flipud=0.0, fliplr=0.5, mosaic=1.0, mixup=0.0, copy_paste=0.0\n",
            "\u001b[34m\u001b[1mWeights & Biases: \u001b[0mrun 'pip install wandb' to automatically track and visualize YOLOv5 🚀 runs (RECOMMENDED)\n",
            "\u001b[34m\u001b[1mTensorBoard: \u001b[0mStart with 'tensorboard --logdir runs/train', view at http://localhost:6006/\n",
            "Unpacking objects: 100% (88/88), done.\n",
            "From https://github.com/ultralytics/yolov5\n",
            "   856d4e5..19e0208  master             -> origin/master\n",
            "   46a2a70..2a20f8c  classifier         -> origin/classifier\n",
            " * [new branch]      fix/chinese_plots  -> origin/fix/chinese_plots\n",
            "   487a014..a82df53  tests/aws          -> origin/tests/aws\n",
            " * [new branch]      update/social      -> origin/update/social\n",
            "   7bb0612..b17c125  updates/benchmarks -> origin/updates/benchmarks\n",
            "Overriding model.yaml nc=80 with nc=2\n",
            "\n",
            "                 from  n    params  module                                  arguments                     \n",
            "  0                -1  1      3520  models.common.Conv                      [3, 32, 6, 2, 2]              \n",
            "  1                -1  1     18560  models.common.Conv                      [32, 64, 3, 2]                \n",
            "  2                -1  1     18816  models.common.C3                        [64, 64, 1]                   \n",
            "  3                -1  1     73984  models.common.Conv                      [64, 128, 3, 2]               \n",
            "  4                -1  2    115712  models.common.C3                        [128, 128, 2]                 \n",
            "  5                -1  1    295424  models.common.Conv                      [128, 256, 3, 2]              \n",
            "  6                -1  3    625152  models.common.C3                        [256, 256, 3]                 \n",
            "  7                -1  1   1180672  models.common.Conv                      [256, 512, 3, 2]              \n",
            "  8                -1  1   1182720  models.common.C3                        [512, 512, 1]                 \n",
            "  9                -1  1    656896  models.common.SPPF                      [512, 512, 5]                 \n",
            " 10                -1  1    131584  models.common.Conv                      [512, 256, 1, 1]              \n",
            " 11                -1  1         0  torch.nn.modules.upsampling.Upsample    [None, 2, 'nearest']          \n",
            " 12           [-1, 6]  1         0  models.common.Concat                    [1]                           \n",
            " 13                -1  1    361984  models.common.C3                        [512, 256, 1, False]          \n",
            " 14                -1  1     33024  models.common.Conv                      [256, 128, 1, 1]              \n",
            " 15                -1  1         0  torch.nn.modules.upsampling.Upsample    [None, 2, 'nearest']          \n",
            " 16           [-1, 4]  1         0  models.common.Concat                    [1]                           \n",
            " 17                -1  1     90880  models.common.C3                        [256, 128, 1, False]          \n",
            " 18                -1  1    147712  models.common.Conv                      [128, 128, 3, 2]              \n",
            " 19          [-1, 14]  1         0  models.common.Concat                    [1]                           \n",
            " 20                -1  1    296448  models.common.C3                        [256, 256, 1, False]          \n",
            " 21                -1  1    590336  models.common.Conv                      [256, 256, 3, 2]              \n",
            " 22          [-1, 10]  1         0  models.common.Concat                    [1]                           \n",
            " 23                -1  1   1182720  models.common.C3                        [512, 512, 1, False]          \n",
            " 24      [17, 20, 23]  1     18879  models.yolo.Detect                      [2, [[10, 13, 16, 30, 33, 23], [30, 61, 62, 45, 59, 119], [116, 90, 156, 198, 373, 326]], [128, 256, 512]]\n",
            "Model Summary: 270 layers, 7025023 parameters, 7025023 gradients, 15.9 GFLOPs\n",
            "\n",
            "Transferred 343/349 items from yolov5s.pt\n",
            "Scaled weight_decay = 0.0005\n",
            "\u001b[34m\u001b[1moptimizer:\u001b[0m SGD with parameter groups 57 weight (no decay), 60 weight, 60 bias\n",
            "\u001b[34m\u001b[1malbumentations: \u001b[0mversion 1.0.3 required by YOLOv5, but version 0.1.12 is currently installed\n",
            "\u001b[34m\u001b[1mtrain: \u001b[0mScanning 'Bike-Helmet-1/train/labels.cache' images and labels... 416 found, 0 missing, 7 empty, 0 corrupt: 100% 416/416 [00:00<?, ?it/s]\n",
            "\u001b[34m\u001b[1mval: \u001b[0mScanning 'Bike-Helmet-1/valid/labels.cache' images and labels... 86 found, 0 missing, 0 empty, 0 corrupt: 100% 86/86 [00:00<?, ?it/s]\n",
            "Plotting labels to runs/train/yolov5s-helmet/labels.jpg... \n",
            "\n",
            "\u001b[34m\u001b[1mAutoAnchor: \u001b[0m6.01 anchors/target, 1.000 Best Possible Recall (BPR). Current anchors are a good fit to dataset ✅\n",
            "Image sizes 416 train, 416 val\n",
            "Using 2 dataloader workers\n",
            "Logging results to \u001b[1mruns/train/yolov5s-helmet\u001b[0m\n",
            "Starting training for 20 epochs...\n",
            "\n",
            "     Epoch   gpu_mem       box       obj       cls    labels  img_size\n",
            "      0/19     2.78G    0.1163    0.0215   0.02778        83       416: 100% 13/13 [00:22<00:00,  1.70s/it]\n",
            "               Class     Images     Labels          P          R     mAP@.5 mAP@.5:.95: 100% 2/2 [00:02<00:00,  1.28s/it]\n",
            "                 all         86        149    0.00178     0.0805   0.000797   0.000134\n",
            "\n",
            "     Epoch   gpu_mem       box       obj       cls    labels  img_size\n",
            "      1/19     3.19G    0.1057   0.02298   0.02647        79       416: 100% 13/13 [00:14<00:00,  1.11s/it]\n",
            "               Class     Images     Labels          P          R     mAP@.5 mAP@.5:.95: 100% 2/2 [00:02<00:00,  1.04s/it]\n",
            "                 all         86        149    0.00121      0.127   0.000669   0.000156\n",
            "\n",
            "     Epoch   gpu_mem       box       obj       cls    labels  img_size\n",
            "      2/19     3.19G   0.09907   0.02706   0.02515        77       416: 100% 13/13 [00:14<00:00,  1.11s/it]\n",
            "               Class     Images     Labels          P          R     mAP@.5 mAP@.5:.95: 100% 2/2 [00:02<00:00,  1.15s/it]\n",
            "                 all         86        149    0.00178      0.137   0.000979   0.000206\n",
            "\n",
            "     Epoch   gpu_mem       box       obj       cls    labels  img_size\n",
            "      3/19     3.19G   0.09115   0.02735   0.02433       102       416: 100% 13/13 [00:14<00:00,  1.11s/it]\n",
            "               Class     Images     Labels          P          R     mAP@.5 mAP@.5:.95: 100% 2/2 [00:01<00:00,  1.01it/s]\n",
            "                 all         86        149    0.00342      0.165    0.00286   0.000603\n",
            "\n",
            "     Epoch   gpu_mem       box       obj       cls    labels  img_size\n",
            "      4/19     3.19G   0.08397   0.02821   0.02293        71       416: 100% 13/13 [00:14<00:00,  1.09s/it]\n",
            "               Class     Images     Labels          P          R     mAP@.5 mAP@.5:.95: 100% 2/2 [00:02<00:00,  1.15s/it]\n",
            "                 all         86        149     0.0227      0.117     0.0162    0.00358\n",
            "\n",
            "     Epoch   gpu_mem       box       obj       cls    labels  img_size\n",
            "      5/19     3.19G   0.07489   0.03134   0.02285       119       416: 100% 13/13 [00:14<00:00,  1.09s/it]\n",
            "               Class     Images     Labels          P          R     mAP@.5 mAP@.5:.95: 100% 2/2 [00:01<00:00,  1.03it/s]\n",
            "                 all         86        149      0.176      0.213       0.13     0.0284\n",
            "\n",
            "     Epoch   gpu_mem       box       obj       cls    labels  img_size\n",
            "      6/19     3.19G   0.06866   0.02963   0.02305        84       416: 100% 13/13 [00:14<00:00,  1.10s/it]\n",
            "               Class     Images     Labels          P          R     mAP@.5 mAP@.5:.95: 100% 2/2 [00:01<00:00,  1.12it/s]\n",
            "                 all         86        149       0.29      0.261      0.301     0.0966\n",
            "\n",
            "     Epoch   gpu_mem       box       obj       cls    labels  img_size\n",
            "      7/19     3.19G   0.06474   0.02871   0.02238        96       416: 100% 13/13 [00:14<00:00,  1.09s/it]\n",
            "               Class     Images     Labels          P          R     mAP@.5 mAP@.5:.95: 100% 2/2 [00:02<00:00,  1.00s/it]\n",
            "                 all         86        149      0.173      0.475       0.25      0.077\n",
            "\n",
            "     Epoch   gpu_mem       box       obj       cls    labels  img_size\n",
            "      8/19     3.19G   0.06179   0.02575   0.02212        88       416: 100% 13/13 [00:14<00:00,  1.09s/it]\n",
            "               Class     Images     Labels          P          R     mAP@.5 mAP@.5:.95: 100% 2/2 [00:02<00:00,  1.00s/it]\n",
            "                 all         86        149      0.214      0.594      0.293     0.0926\n",
            "\n",
            "     Epoch   gpu_mem       box       obj       cls    labels  img_size\n",
            "      9/19     3.19G    0.0588   0.02393   0.02161        73       416: 100% 13/13 [00:14<00:00,  1.11s/it]\n",
            "               Class     Images     Labels          P          R     mAP@.5 mAP@.5:.95: 100% 2/2 [00:01<00:00,  1.06it/s]\n",
            "                 all         86        149      0.324      0.605      0.406      0.151\n",
            "\n",
            "     Epoch   gpu_mem       box       obj       cls    labels  img_size\n",
            "     10/19     3.19G   0.05645   0.02281   0.02159        92       416: 100% 13/13 [00:14<00:00,  1.10s/it]\n",
            "               Class     Images     Labels          P          R     mAP@.5 mAP@.5:.95: 100% 2/2 [00:01<00:00,  1.06it/s]\n",
            "                 all         86        149      0.284      0.656       0.41      0.137\n",
            "\n",
            "     Epoch   gpu_mem       box       obj       cls    labels  img_size\n",
            "     11/19     3.19G   0.05391   0.02275   0.02116        94       416: 100% 13/13 [00:14<00:00,  1.11s/it]\n",
            "               Class     Images     Labels          P          R     mAP@.5 mAP@.5:.95: 100% 2/2 [00:01<00:00,  1.14it/s]\n",
            "                 all         86        149      0.315      0.703      0.466      0.178\n",
            "\n",
            "     Epoch   gpu_mem       box       obj       cls    labels  img_size\n",
            "     12/19     3.19G   0.05187    0.0232   0.02158        87       416: 100% 13/13 [00:14<00:00,  1.10s/it]\n",
            "               Class     Images     Labels          P          R     mAP@.5 mAP@.5:.95: 100% 2/2 [00:01<00:00,  1.10it/s]\n",
            "                 all         86        149      0.385      0.648      0.474      0.145\n",
            "\n",
            "     Epoch   gpu_mem       box       obj       cls    labels  img_size\n",
            "     13/19     3.19G   0.05071   0.02207   0.02095        73       416: 100% 13/13 [00:14<00:00,  1.11s/it]\n",
            "               Class     Images     Labels          P          R     mAP@.5 mAP@.5:.95: 100% 2/2 [00:01<00:00,  1.16it/s]\n",
            "                 all         86        149      0.375      0.703      0.529      0.182\n",
            "\n",
            "     Epoch   gpu_mem       box       obj       cls    labels  img_size\n",
            "     14/19     3.19G   0.05137   0.02109   0.02017       106       416: 100% 13/13 [00:14<00:00,  1.10s/it]\n",
            "               Class     Images     Labels          P          R     mAP@.5 mAP@.5:.95: 100% 2/2 [00:01<00:00,  1.20it/s]\n",
            "                 all         86        149      0.347      0.706      0.529      0.209\n",
            "\n",
            "     Epoch   gpu_mem       box       obj       cls    labels  img_size\n",
            "     15/19     3.19G   0.04753   0.02046   0.02135        92       416: 100% 13/13 [00:14<00:00,  1.10s/it]\n",
            "               Class     Images     Labels          P          R     mAP@.5 mAP@.5:.95: 100% 2/2 [00:01<00:00,  1.13it/s]\n",
            "                 all         86        149      0.397       0.71       0.55      0.251\n",
            "\n",
            "     Epoch   gpu_mem       box       obj       cls    labels  img_size\n",
            "     16/19     3.19G   0.04629   0.02115   0.02051        93       416: 100% 13/13 [00:14<00:00,  1.11s/it]\n",
            "               Class     Images     Labels          P          R     mAP@.5 mAP@.5:.95: 100% 2/2 [00:01<00:00,  1.07it/s]\n",
            "                 all         86        149        0.4      0.751      0.581      0.254\n",
            "\n",
            "     Epoch   gpu_mem       box       obj       cls    labels  img_size\n",
            "     17/19     3.19G   0.04496   0.01946   0.02089        90       416: 100% 13/13 [00:14<00:00,  1.10s/it]\n",
            "               Class     Images     Labels          P          R     mAP@.5 mAP@.5:.95: 100% 2/2 [00:01<00:00,  1.22it/s]\n",
            "                 all         86        149      0.422        0.7      0.569      0.252\n",
            "\n",
            "     Epoch   gpu_mem       box       obj       cls    labels  img_size\n",
            "     18/19     3.19G   0.04541   0.01962   0.02059        90       416: 100% 13/13 [00:13<00:00,  1.08s/it]\n",
            "               Class     Images     Labels          P          R     mAP@.5 mAP@.5:.95: 100% 2/2 [00:01<00:00,  1.14it/s]\n",
            "                 all         86        149      0.431      0.748      0.587      0.295\n",
            "\n",
            "     Epoch   gpu_mem       box       obj       cls    labels  img_size\n",
            "     19/19     3.19G   0.04441   0.01852   0.02131        99       416: 100% 13/13 [00:14<00:00,  1.10s/it]\n",
            "               Class     Images     Labels          P          R     mAP@.5 mAP@.5:.95: 100% 2/2 [00:01<00:00,  1.22it/s]\n",
            "                 all         86        149       0.41       0.74      0.571      0.286\n",
            "\n",
            "20 epochs completed in 0.099 hours.\n",
            "Optimizer stripped from runs/train/yolov5s-helmet/weights/last.pt, 14.3MB\n",
            "Optimizer stripped from runs/train/yolov5s-helmet/weights/best.pt, 14.3MB\n",
            "\n",
            "Validating runs/train/yolov5s-helmet/weights/best.pt...\n",
            "Fusing layers... \n",
            "Model Summary: 213 layers, 7015519 parameters, 0 gradients, 15.8 GFLOPs\n",
            "               Class     Images     Labels          P          R     mAP@.5 mAP@.5:.95: 100% 2/2 [00:03<00:00,  1.55s/it]\n",
            "                 all         86        149      0.431      0.748      0.587      0.294\n",
            "         With Helmet         86         94      0.451      0.968      0.805      0.439\n",
            "      Without Helmet         86         55      0.412      0.527      0.369      0.148\n",
            "Results saved to \u001b[1mruns/train/yolov5s-helmet\u001b[0m\n"
          ]
        }
      ]
    },
    {
      "cell_type": "code",
      "source": [
        ""
      ],
      "metadata": {
        "id": "Xdt8tKNlzC2N"
      },
      "execution_count": null,
      "outputs": []
    }
  ]
}